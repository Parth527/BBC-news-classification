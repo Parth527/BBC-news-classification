{
  "nbformat": 4,
  "nbformat_minor": 0,
  "metadata": {
    "accelerator": "GPU",
    "colab": {
      "name": "BBC News_LSTM.ipynb",
      "provenance": []
    },
    "kernelspec": {
      "display_name": "Python 3",
      "language": "python",
      "name": "python3"
    },
    "language_info": {
      "codemirror_mode": {
        "name": "ipython",
        "version": 3
      },
      "file_extension": ".py",
      "mimetype": "text/x-python",
      "name": "python",
      "nbconvert_exporter": "python",
      "pygments_lexer": "ipython3",
      "version": "3.8.3"
    }
  },
  "cells": [
    {
      "cell_type": "code",
      "metadata": {
        "id": "T0zRNMe21PJm",
        "colab": {
          "base_uri": "https://localhost:8080/"
        },
        "outputId": "8b2e2905-5e69-4553-9891-d090166798e0"
      },
      "source": [
        "import tensorflow as tf\n",
        "print(tf.__version__)"
      ],
      "execution_count": null,
      "outputs": [
        {
          "output_type": "stream",
          "text": [
            "2.4.1\n"
          ],
          "name": "stdout"
        }
      ]
    },
    {
      "cell_type": "code",
      "metadata": {
        "id": "eMT3eVUt1WGP"
      },
      "source": [
        "from tqdm.keras import TqdmCallback"
      ],
      "execution_count": null,
      "outputs": []
    },
    {
      "cell_type": "code",
      "metadata": {
        "id": "xDHSsQPL1PKF"
      },
      "source": [
        "import horovod.tensorflow.keras as hvd"
      ],
      "execution_count": null,
      "outputs": []
    },
    {
      "cell_type": "code",
      "metadata": {
        "colab": {
          "base_uri": "https://localhost:8080/"
        },
        "id": "2gHANHco1PKK",
        "outputId": "121f812d-11b0-4a76-e5b8-ecbe1cb9fc8d"
      },
      "source": [
        "pip install horovod"
      ],
      "execution_count": null,
      "outputs": [
        {
          "output_type": "stream",
          "text": [
            "Collecting horovod\n",
            "\u001b[?25l  Downloading https://files.pythonhosted.org/packages/59/e9/c672fbd6aeb55a32ad97f7b1b79a7903f6afbdca85906f0c0cc07eb821ff/horovod-0.22.0.tar.gz (3.3MB)\n",
            "\u001b[K     |████████████████████████████████| 3.3MB 8.0MB/s \n",
            "\u001b[?25hRequirement already satisfied: cloudpickle in /usr/local/lib/python3.7/dist-packages (from horovod) (1.3.0)\n",
            "Requirement already satisfied: psutil in /usr/local/lib/python3.7/dist-packages (from horovod) (5.4.8)\n",
            "Requirement already satisfied: pyyaml in /usr/local/lib/python3.7/dist-packages (from horovod) (3.13)\n",
            "Requirement already satisfied: cffi>=1.4.0 in /usr/local/lib/python3.7/dist-packages (from horovod) (1.14.5)\n",
            "Requirement already satisfied: pycparser in /usr/local/lib/python3.7/dist-packages (from cffi>=1.4.0->horovod) (2.20)\n",
            "Building wheels for collected packages: horovod\n",
            "  Building wheel for horovod (setup.py) ... \u001b[?25l\u001b[?25hdone\n",
            "  Created wheel for horovod: filename=horovod-0.22.0-cp37-cp37m-linux_x86_64.whl size=20916475 sha256=af49ff5eeef756afb7d7a129fea04cf17d959af3b5bf48280311b488f7704e8f\n",
            "  Stored in directory: /root/.cache/pip/wheels/5b/71/9f/51d0e35b6ffaa48ee00ecd12ac96eab9fb0c5cdc6ee41cc39c\n",
            "Successfully built horovod\n",
            "Installing collected packages: horovod\n",
            "Successfully installed horovod-0.22.0\n"
          ],
          "name": "stdout"
        }
      ]
    },
    {
      "cell_type": "code",
      "metadata": {
        "colab": {
          "base_uri": "https://localhost:8080/"
        },
        "id": "V71e-kPe1PKN",
        "outputId": "3774a707-a7d2-4b86-87c8-06d250f303fa"
      },
      "source": [
        "!pip install nltk"
      ],
      "execution_count": null,
      "outputs": [
        {
          "output_type": "stream",
          "text": [
            "Requirement already satisfied: nltk in /usr/local/lib/python3.7/dist-packages (3.2.5)\n",
            "Requirement already satisfied: six in /usr/local/lib/python3.7/dist-packages (from nltk) (1.15.0)\n"
          ],
          "name": "stdout"
        }
      ]
    },
    {
      "cell_type": "code",
      "metadata": {
        "colab": {
          "base_uri": "https://localhost:8080/"
        },
        "id": "Bz-0WdVV1PKR",
        "outputId": "381596ed-619c-4ee9-c4b9-12a17f390957"
      },
      "source": [
        "import csv\n",
        "import nltk\n",
        "import tensorflow as tf\n",
        "import numpy as np\n",
        "from tensorflow.keras.preprocessing.text import Tokenizer\n",
        "from tensorflow.keras.preprocessing.sequence import pad_sequences\n",
        "from nltk.corpus import stopwords\n",
        "nltk.download('stopwords')\n",
        "STOPWORDS = set(stopwords.words('english'))"
      ],
      "execution_count": null,
      "outputs": [
        {
          "output_type": "stream",
          "text": [
            "[nltk_data] Downloading package stopwords to /root/nltk_data...\n",
            "[nltk_data]   Package stopwords is already up-to-date!\n"
          ],
          "name": "stdout"
        }
      ]
    },
    {
      "cell_type": "markdown",
      "metadata": {
        "id": "EVg66wvj1PKU"
      },
      "source": [
        "Put the hyparameters at the top like this to make it easier to change and edit."
      ]
    },
    {
      "cell_type": "code",
      "metadata": {
        "id": "rvrRxV4B1PKW"
      },
      "source": [
        "vocab_size = 5000\n",
        "embedding_dim = 64\n",
        "max_length = 200\n",
        "trunc_type = 'post'\n",
        "padding_type = 'post'\n",
        "oov_tok = '<OOV>'\n",
        "training_portion = .8\n"
      ],
      "execution_count": null,
      "outputs": []
    },
    {
      "cell_type": "code",
      "metadata": {
        "id": "Hj6ZeqnP1PKY",
        "colab": {
          "base_uri": "https://localhost:8080/"
        },
        "outputId": "3347f8f2-e5e7-4214-f6b6-f9502031702f"
      },
      "source": [
        "articles = []\n",
        "labels = []\n",
        "\n",
        "with open(\"bbc-text.csv\", 'r') as csvfile:\n",
        "    reader = csv.reader(csvfile, delimiter=',')\n",
        "    next(reader)\n",
        "    for row in reader:\n",
        "        labels.append(row[0])\n",
        "        article = row[1]\n",
        "        for word in STOPWORDS:\n",
        "            token = ' ' + word + ' '\n",
        "            article = article.replace(token, ' ')\n",
        "            article = article.replace(' ', ' ')\n",
        "        articles.append(article)\n",
        "print(type(labels))\n",
        "print(len(articles))"
      ],
      "execution_count": null,
      "outputs": [
        {
          "output_type": "stream",
          "text": [
            "<class 'list'>\n",
            "2225\n"
          ],
          "name": "stdout"
        }
      ]
    },
    {
      "cell_type": "code",
      "metadata": {
        "id": "kOd_REVS1PKa",
        "colab": {
          "base_uri": "https://localhost:8080/"
        },
        "outputId": "5c97e3bb-078e-44b4-b60c-348acf2950b2"
      },
      "source": [
        "train_size = int(len(articles) * training_portion)\n",
        "\n",
        "train_articles = articles[0: train_size]\n",
        "train_labels = labels[0: train_size]\n",
        "\n",
        "validation_articles = articles[train_size:]\n",
        "validation_labels = labels[train_size:]\n",
        "\n",
        "print(train_size)\n",
        "print(len(train_articles))\n",
        "print(len(train_labels))\n",
        "print(len(validation_articles))\n",
        "print(len(validation_labels))"
      ],
      "execution_count": null,
      "outputs": [
        {
          "output_type": "stream",
          "text": [
            "1780\n",
            "1780\n",
            "1780\n",
            "445\n",
            "445\n"
          ],
          "name": "stdout"
        }
      ]
    },
    {
      "cell_type": "code",
      "metadata": {
        "id": "3OoxbMu11PKc"
      },
      "source": [
        "tokenizer = Tokenizer(num_words = vocab_size, oov_token=oov_tok)\n",
        "tokenizer.fit_on_texts(train_articles)\n",
        "word_index = tokenizer.word_index"
      ],
      "execution_count": null,
      "outputs": []
    },
    {
      "cell_type": "markdown",
      "metadata": {
        "id": "B-90e2qC1PKd"
      },
      "source": [
        "You can see that \"OOV\" in bracket is number 1, \"said\" is number 2, \"mr\" is number 3, and so on."
      ]
    },
    {
      "cell_type": "code",
      "metadata": {
        "id": "ggiy-dBJ1PKh",
        "scrolled": false,
        "colab": {
          "base_uri": "https://localhost:8080/"
        },
        "outputId": "f11e49d0-f14f-4d7f-a142-45ef6a31c370"
      },
      "source": [
        "dict(list(word_index.items())[0:10])"
      ],
      "execution_count": null,
      "outputs": [
        {
          "output_type": "execute_result",
          "data": {
            "text/plain": [
              "{'<OOV>': 1,\n",
              " 'also': 6,\n",
              " 'mr': 3,\n",
              " 'new': 8,\n",
              " 'one': 10,\n",
              " 'people': 7,\n",
              " 'said': 2,\n",
              " 'us': 9,\n",
              " 'would': 4,\n",
              " 'year': 5}"
            ]
          },
          "metadata": {
            "tags": []
          },
          "execution_count": 14
        }
      ]
    },
    {
      "cell_type": "markdown",
      "metadata": {
        "id": "p7cpLkNa1PKj"
      },
      "source": [
        "This process cleans up our text, lowercase, and remove punctuations."
      ]
    },
    {
      "cell_type": "markdown",
      "metadata": {
        "id": "APIXoAjG1PKj"
      },
      "source": [
        "After tokenization, the next step is to turn thoes tokens into lists of sequence."
      ]
    },
    {
      "cell_type": "code",
      "metadata": {
        "id": "KSpLxVxS1PKk"
      },
      "source": [
        "train_sequences = tokenizer.texts_to_sequences(train_articles)"
      ],
      "execution_count": null,
      "outputs": []
    },
    {
      "cell_type": "markdown",
      "metadata": {
        "id": "qmagU49b1PKl"
      },
      "source": [
        "This is the 11th article in the training data that has been turned into sequences."
      ]
    },
    {
      "cell_type": "code",
      "metadata": {
        "id": "4tp8ySX11PKm",
        "scrolled": false,
        "colab": {
          "base_uri": "https://localhost:8080/"
        },
        "outputId": "9760b01f-8755-4f94-bd88-7d27fd4a39eb"
      },
      "source": [
        "print(train_sequences[10])"
      ],
      "execution_count": null,
      "outputs": [
        {
          "output_type": "stream",
          "text": [
            "[2431, 1, 225, 4995, 22, 641, 587, 225, 4995, 1, 1, 1662, 1, 1, 2431, 22, 565, 1, 1, 140, 278, 1, 140, 278, 796, 822, 662, 2307, 1, 1144, 1693, 1, 1720, 4996, 1, 1, 1, 1, 1, 4738, 1, 1, 122, 4515, 1, 2, 2873, 1506, 352, 4739, 1, 52, 341, 1, 352, 2173, 3962, 41, 22, 3795, 1, 1, 1, 1, 543, 1, 1, 1, 835, 631, 2366, 347, 4740, 1, 365, 22, 1, 787, 2367, 1, 4302, 138, 10, 1, 3664, 682, 3532, 1, 22, 1, 414, 822, 662, 1, 90, 13, 633, 1, 225, 4995, 1, 599, 1, 1693, 1021, 1, 4997, 807, 1863, 117, 1, 1, 1, 2974, 22, 1, 99, 278, 1, 1606, 4998, 543, 493, 1, 1445, 4741, 778, 1320, 1, 1860, 10, 33, 641, 319, 1, 62, 479, 565, 301, 1507, 22, 480, 1, 1, 1665, 1, 797, 1, 3066, 1, 1365, 6, 1, 2431, 565, 22, 2971, 4735, 1, 1, 1, 1, 1, 850, 39, 1824, 675, 297, 26, 979, 1, 882, 22, 361, 22, 13, 301, 1507, 1343, 374, 20, 63, 883, 1096, 4303, 247]\n"
          ],
          "name": "stdout"
        }
      ]
    },
    {
      "cell_type": "markdown",
      "metadata": {
        "id": "VpeKC6v51PKn"
      },
      "source": [
        "When we train neural networks for NLP, we need sequences to be in the same size, that's why we use padding. Our max_length is 200, so we use pad_sequences to make all of our articles the same length which is 200 in my example. That's why you see that the 1st article was 426 in length, becomes 200, the 2nd article was 192 in length, becomes 200, and so on."
      ]
    },
    {
      "cell_type": "code",
      "metadata": {
        "id": "GlmtqOlt1PKo"
      },
      "source": [
        "train_padded = pad_sequences(train_sequences, maxlen=max_length, padding=padding_type, truncating=trunc_type)"
      ],
      "execution_count": null,
      "outputs": []
    },
    {
      "cell_type": "code",
      "metadata": {
        "id": "-XV-_dAp1PKo",
        "colab": {
          "base_uri": "https://localhost:8080/"
        },
        "outputId": "97db6340-8616-4aeb-a3bc-22318327ec69"
      },
      "source": [
        "print(len(train_sequences[0]))\n",
        "print(len(train_padded[0]))\n",
        "\n",
        "print(len(train_sequences[1]))\n",
        "print(len(train_padded[1]))\n",
        "\n",
        "print(len(train_sequences[10]))\n",
        "print(len(train_padded[10]))"
      ],
      "execution_count": null,
      "outputs": [
        {
          "output_type": "stream",
          "text": [
            "425\n",
            "200\n",
            "192\n",
            "200\n",
            "186\n",
            "200\n"
          ],
          "name": "stdout"
        }
      ]
    },
    {
      "cell_type": "markdown",
      "metadata": {
        "id": "1kyDktAe1PKo"
      },
      "source": [
        "In addtion, there is padding type and truncating type, there are all \"post\". Means for example, for the 11th article, it was 186 in length, we padded to 200, and we padded at the end, add 14 zeros."
      ]
    },
    {
      "cell_type": "code",
      "metadata": {
        "id": "zb-HAOg31PKq",
        "colab": {
          "base_uri": "https://localhost:8080/"
        },
        "outputId": "6dde1265-70ab-4071-b673-688d32f82b14"
      },
      "source": [
        "print(train_sequences[10])"
      ],
      "execution_count": null,
      "outputs": [
        {
          "output_type": "stream",
          "text": [
            "[2431, 1, 225, 4995, 22, 641, 587, 225, 4995, 1, 1, 1662, 1, 1, 2431, 22, 565, 1, 1, 140, 278, 1, 140, 278, 796, 822, 662, 2307, 1, 1144, 1693, 1, 1720, 4996, 1, 1, 1, 1, 1, 4738, 1, 1, 122, 4515, 1, 2, 2873, 1506, 352, 4739, 1, 52, 341, 1, 352, 2173, 3962, 41, 22, 3795, 1, 1, 1, 1, 543, 1, 1, 1, 835, 631, 2366, 347, 4740, 1, 365, 22, 1, 787, 2367, 1, 4302, 138, 10, 1, 3664, 682, 3532, 1, 22, 1, 414, 822, 662, 1, 90, 13, 633, 1, 225, 4995, 1, 599, 1, 1693, 1021, 1, 4997, 807, 1863, 117, 1, 1, 1, 2974, 22, 1, 99, 278, 1, 1606, 4998, 543, 493, 1, 1445, 4741, 778, 1320, 1, 1860, 10, 33, 641, 319, 1, 62, 479, 565, 301, 1507, 22, 480, 1, 1, 1665, 1, 797, 1, 3066, 1, 1365, 6, 1, 2431, 565, 22, 2971, 4735, 1, 1, 1, 1, 1, 850, 39, 1824, 675, 297, 26, 979, 1, 882, 22, 361, 22, 13, 301, 1507, 1343, 374, 20, 63, 883, 1096, 4303, 247]\n"
          ],
          "name": "stdout"
        }
      ]
    },
    {
      "cell_type": "code",
      "metadata": {
        "id": "rbSW8e9s1PKq",
        "colab": {
          "base_uri": "https://localhost:8080/"
        },
        "outputId": "b985a8e9-34c9-48ed-a13a-6639bef57e4d"
      },
      "source": [
        "print(train_padded[10])"
      ],
      "execution_count": null,
      "outputs": [
        {
          "output_type": "stream",
          "text": [
            "[2431    1  225 4995   22  641  587  225 4995    1    1 1662    1    1\n",
            " 2431   22  565    1    1  140  278    1  140  278  796  822  662 2307\n",
            "    1 1144 1693    1 1720 4996    1    1    1    1    1 4738    1    1\n",
            "  122 4515    1    2 2873 1506  352 4739    1   52  341    1  352 2173\n",
            " 3962   41   22 3795    1    1    1    1  543    1    1    1  835  631\n",
            " 2366  347 4740    1  365   22    1  787 2367    1 4302  138   10    1\n",
            " 3664  682 3532    1   22    1  414  822  662    1   90   13  633    1\n",
            "  225 4995    1  599    1 1693 1021    1 4997  807 1863  117    1    1\n",
            "    1 2974   22    1   99  278    1 1606 4998  543  493    1 1445 4741\n",
            "  778 1320    1 1860   10   33  641  319    1   62  479  565  301 1507\n",
            "   22  480    1    1 1665    1  797    1 3066    1 1365    6    1 2431\n",
            "  565   22 2971 4735    1    1    1    1    1  850   39 1824  675  297\n",
            "   26  979    1  882   22  361   22   13  301 1507 1343  374   20   63\n",
            "  883 1096 4303  247    0    0    0    0    0    0    0    0    0    0\n",
            "    0    0    0    0]\n"
          ],
          "name": "stdout"
        }
      ]
    },
    {
      "cell_type": "markdown",
      "metadata": {
        "id": "ti2JhQ6n1PKr"
      },
      "source": [
        "And for the 1st article, it was 426 in length, we truncated to 200, and we truncated at the end."
      ]
    },
    {
      "cell_type": "code",
      "metadata": {
        "id": "Dv0_hP0c1PKs",
        "colab": {
          "base_uri": "https://localhost:8080/"
        },
        "outputId": "55654513-2621-4b16-fab3-1f892fce79f3"
      },
      "source": [
        "print(train_sequences[0])"
      ],
      "execution_count": null,
      "outputs": [
        {
          "output_type": "stream",
          "text": [
            "[91, 160, 1141, 1106, 49, 979, 755, 1, 89, 1303, 4289, 129, 175, 3653, 1214, 1194, 1576, 42, 7, 893, 91, 1, 334, 85, 20, 14, 130, 3262, 1215, 2421, 570, 451, 1376, 58, 3379, 3522, 1660, 8, 921, 730, 10, 844, 1, 9, 598, 1577, 1107, 395, 1940, 1106, 731, 49, 538, 1398, 2010, 1621, 134, 249, 113, 2355, 795, 4980, 980, 584, 10, 3957, 3958, 921, 2562, 129, 344, 175, 3653, 1, 1, 39, 62, 2866, 28, 9, 4723, 18, 1304, 136, 416, 7, 143, 1423, 71, 4502, 436, 4981, 91, 1107, 77, 1, 82, 2011, 53, 1, 91, 6, 1008, 609, 89, 1303, 91, 1963, 131, 137, 420, 9, 2867, 38, 152, 1234, 89, 1303, 4724, 7, 436, 4981, 3154, 6, 2492, 1, 431, 1126, 1, 1424, 571, 1216, 1901, 1, 766, 9, 538, 1398, 2010, 134, 2068, 400, 845, 1964, 1599, 34, 1716, 2868, 1, 1, 2422, 244, 9, 2624, 82, 732, 6, 1172, 1195, 152, 720, 591, 1, 124, 28, 1304, 1689, 432, 83, 933, 115, 20, 14, 18, 3155, 1, 37, 1485, 1, 23, 37, 87, 335, 2356, 37, 467, 255, 1964, 1359, 328, 1, 299, 732, 1173, 18, 2869, 1716, 1, 294, 756, 1074, 395, 2012, 387, 431, 2012, 2, 1360, 1, 1716, 2167, 67, 1, 1, 1717, 249, 1661, 3059, 1174, 395, 41, 878, 246, 2792, 345, 53, 548, 400, 2, 1, 1, 655, 1361, 202, 91, 3959, 91, 90, 42, 7, 320, 395, 77, 893, 1, 91, 1106, 400, 538, 9, 845, 2422, 11, 38, 1, 995, 514, 484, 2069, 160, 572, 1, 128, 7, 320, 77, 893, 1217, 1126, 1464, 346, 54, 2215, 1218, 741, 92, 256, 274, 1019, 71, 623, 346, 2423, 756, 1215, 2357, 1718, 1, 3783, 3523, 1, 1126, 2012, 177, 371, 1399, 77, 53, 548, 105, 1141, 3, 1, 1047, 93, 2962, 1, 2625, 1, 102, 902, 440, 452, 2, 3, 1, 2870, 451, 1425, 43, 77, 429, 31, 8, 1019, 921, 1, 2562, 30, 1, 91, 1690, 879, 89, 1303, 91, 1963, 1, 30, 8, 1622, 1, 1, 4290, 1578, 4289, 656, 1, 3784, 1008, 572, 4291, 2866, 10, 880, 656, 58, 1, 1261, 1, 1, 91, 1553, 934, 4723, 1, 577, 4106, 10, 9, 235, 2010, 91, 134, 1, 95, 656, 3263, 1, 58, 520, 673, 2626, 3784, 4982, 3380, 484, 4725, 39, 4502, 1, 91, 1747, 673, 269, 116, 239, 2627, 354, 643, 58, 4107, 757, 3654, 4723, 146, 1, 400, 7, 71, 1748, 1107, 767, 910, 118, 584, 3381, 1316, 1577, 1, 1600, 7, 893, 77, 77]\n"
          ],
          "name": "stdout"
        }
      ]
    },
    {
      "cell_type": "code",
      "metadata": {
        "id": "NBDKvfhw1PKt",
        "colab": {
          "base_uri": "https://localhost:8080/"
        },
        "outputId": "ec804464-252e-47c6-c0e7-ce1509164911"
      },
      "source": [
        "print(train_padded[0])"
      ],
      "execution_count": null,
      "outputs": [
        {
          "output_type": "stream",
          "text": [
            "[  91  160 1141 1106   49  979  755    1   89 1303 4289  129  175 3653\n",
            " 1214 1194 1576   42    7  893   91    1  334   85   20   14  130 3262\n",
            " 1215 2421  570  451 1376   58 3379 3522 1660    8  921  730   10  844\n",
            "    1    9  598 1577 1107  395 1940 1106  731   49  538 1398 2010 1621\n",
            "  134  249  113 2355  795 4980  980  584   10 3957 3958  921 2562  129\n",
            "  344  175 3653    1    1   39   62 2866   28    9 4723   18 1304  136\n",
            "  416    7  143 1423   71 4502  436 4981   91 1107   77    1   82 2011\n",
            "   53    1   91    6 1008  609   89 1303   91 1963  131  137  420    9\n",
            " 2867   38  152 1234   89 1303 4724    7  436 4981 3154    6 2492    1\n",
            "  431 1126    1 1424  571 1216 1901    1  766    9  538 1398 2010  134\n",
            " 2068  400  845 1964 1599   34 1716 2868    1    1 2422  244    9 2624\n",
            "   82  732    6 1172 1195  152  720  591    1  124   28 1304 1689  432\n",
            "   83  933  115   20   14   18 3155    1   37 1485    1   23   37   87\n",
            "  335 2356   37  467  255 1964 1359  328    1  299  732 1173   18 2869\n",
            " 1716    1  294  756]\n"
          ],
          "name": "stdout"
        }
      ]
    },
    {
      "cell_type": "markdown",
      "metadata": {
        "id": "QkKSDm8v1PKu"
      },
      "source": [
        "Then we do the same for the validation sequences. Note that we should expect more out of vocabulary words from validation articles because word index were derived from the training articles."
      ]
    },
    {
      "cell_type": "code",
      "metadata": {
        "id": "7JYPIwZ01PKu",
        "colab": {
          "base_uri": "https://localhost:8080/"
        },
        "outputId": "c0cbd741-4bb8-4c46-a5e4-3e94c0f5b3a2"
      },
      "source": [
        "validation_sequences = tokenizer.texts_to_sequences(validation_articles)\n",
        "validation_padded = pad_sequences(validation_sequences, maxlen=max_length, padding=padding_type, truncating=trunc_type)\n",
        "\n",
        "print(len(validation_sequences))\n",
        "print(validation_padded.shape)"
      ],
      "execution_count": null,
      "outputs": [
        {
          "output_type": "stream",
          "text": [
            "445\n",
            "(445, 200)\n"
          ],
          "name": "stdout"
        }
      ]
    },
    {
      "cell_type": "code",
      "metadata": {
        "id": "OPGMn5XS1PKv",
        "colab": {
          "base_uri": "https://localhost:8080/"
        },
        "outputId": "d7a55a63-b0e0-4a24-a772-068df3f4e50e"
      },
      "source": [
        "print(set(labels))"
      ],
      "execution_count": null,
      "outputs": [
        {
          "output_type": "stream",
          "text": [
            "{'entertainment', 'tech', 'politics', 'sport', 'business'}\n"
          ],
          "name": "stdout"
        }
      ]
    },
    {
      "cell_type": "code",
      "metadata": {
        "id": "QCgQHTZC1PKv"
      },
      "source": [
        "label_tokenizer = Tokenizer()\n",
        "label_tokenizer.fit_on_texts(labels)\n",
        "\n",
        "training_label_seq = np.array(label_tokenizer.texts_to_sequences(train_labels))\n",
        "validation_label_seq = np.array(label_tokenizer.texts_to_sequences(validation_labels))"
      ],
      "execution_count": null,
      "outputs": []
    },
    {
      "cell_type": "code",
      "metadata": {
        "id": "D78IURN71PKw",
        "colab": {
          "base_uri": "https://localhost:8080/"
        },
        "outputId": "8ed4a03a-24b5-439d-9966-e1aeda1f6226"
      },
      "source": [
        "print(training_label_seq[0])\n",
        "print(training_label_seq[1])\n",
        "print(training_label_seq[2])\n",
        "print(training_label_seq.shape)\n",
        "\n",
        "print(validation_label_seq[0])\n",
        "print(validation_label_seq[1])\n",
        "print(validation_label_seq[2])\n",
        "print(validation_label_seq.shape)"
      ],
      "execution_count": null,
      "outputs": [
        {
          "output_type": "stream",
          "text": [
            "[4]\n",
            "[2]\n",
            "[1]\n",
            "(1780, 1)\n",
            "[5]\n",
            "[4]\n",
            "[3]\n",
            "(445, 1)\n"
          ],
          "name": "stdout"
        }
      ]
    },
    {
      "cell_type": "code",
      "metadata": {
        "id": "Rjj2_Spm1PKx",
        "colab": {
          "base_uri": "https://localhost:8080/"
        },
        "outputId": "0eacad2c-23bb-4717-facc-9c131870783f"
      },
      "source": [
        "reverse_word_index = dict([(value, key) for (key, value) in word_index.items()])\n",
        "\n",
        "def decode_article(text):\n",
        "    return ' '.join([reverse_word_index.get(i, '?') for i in text])\n",
        "print(decode_article(train_padded[10]))\n",
        "print('---')\n",
        "print(train_articles[10])"
      ],
      "execution_count": null,
      "outputs": [
        {
          "output_type": "stream",
          "text": [
            "berlin <OOV> anti nazi film german movie anti nazi <OOV> <OOV> drawn <OOV> <OOV> berlin film festival <OOV> <OOV> final days <OOV> final days member white rose movement <OOV> 21 arrested <OOV> brother hans <OOV> <OOV> <OOV> <OOV> <OOV> tyranny <OOV> <OOV> director marc <OOV> said feeling responsibility keep legacy <OOV> going must <OOV> keep ideas alive added film drew <OOV> <OOV> <OOV> <OOV> trial <OOV> <OOV> <OOV> east germany secret police discovery <OOV> behind film <OOV> worked closely <OOV> relatives including one <OOV> sisters ensure historical <OOV> film <OOV> members white rose <OOV> group first started <OOV> anti nazi <OOV> summer <OOV> arrested dropped <OOV> munich university calling day <OOV> <OOV> <OOV> regime film <OOV> six days <OOV> arrest intense trial saw <OOV> initially deny charges ended <OOV> appearance one three german films <OOV> top prize festival south african film version <OOV> <OOV> opera <OOV> shot <OOV> town <OOV> language also <OOV> berlin festival film entitled u <OOV> <OOV> <OOV> <OOV> <OOV> story set performed 40 strong music theatre <OOV> debut film performance film first south african feature 25 years second nominated golden bear award ? ? ? ? ? ? ? ? ? ? ? ? ? ?\n",
            "---\n",
            "berlin cheers anti-nazi film german movie anti-nazi resistance heroine drawn loud applause berlin film festival.  sophie scholl - final days portrays final days member white rose movement. scholl  21  arrested beheaded brother  hans  1943 distributing leaflets condemning  abhorrent tyranny  adolf hitler. director marc rothemund said:  feeling responsibility keep legacy scholls going.   must somehow keep ideas alive   added.  film drew transcripts gestapo interrogations scholl trial preserved archive communist east germany secret police. discovery inspiration behind film rothemund  worked closely surviving relatives  including one scholl sisters  ensure historical accuracy film. scholl members white rose resistance group first started distributing anti-nazi leaflets summer 1942. arrested dropped leaflets munich university calling  day reckoning  adolf hitler regime. film focuses six days scholl arrest intense trial saw scholl initially deny charges ended defiant appearance. one three german films vying top prize festival.  south african film version bizet tragic opera carmen shot cape town xhosa language also premiered berlin festival. film entitled u-carmen ekhayelitsha carmen khayelitsha township story set. performed 40-strong music theatre troupe debut film performance. film first south african feature 25 years second nominated golden bear award.\n"
          ],
          "name": "stdout"
        }
      ]
    },
    {
      "cell_type": "code",
      "metadata": {
        "id": "V7CN14c0Rd6d"
      },
      "source": [
        "hvd.init()"
      ],
      "execution_count": null,
      "outputs": []
    },
    {
      "cell_type": "code",
      "metadata": {
        "id": "iYkYmqLjPGx-"
      },
      "source": [
        "gpus = tf.config.experimental.list_physical_devices('GPU')\n",
        "for gpu in gpus:\n",
        "    tf.config.experimental.set_memory_growth(gpu, True)\n",
        "if gpus:\n",
        "    tf.config.experimental.set_visible_devices(gpus[hvd.local_rank()], 'GPU')"
      ],
      "execution_count": null,
      "outputs": []
    },
    {
      "cell_type": "code",
      "metadata": {
        "id": "SnB1RSaXPG0v"
      },
      "source": [
        "dataset = tf.data.Dataset.from_tensor_slices((tf.cast(train_padded[..., tf.newaxis] / 255.0, tf.float32),tf.cast(training_label_seq, tf.int64)))"
      ],
      "execution_count": null,
      "outputs": []
    },
    {
      "cell_type": "code",
      "metadata": {
        "id": "vmeIEjUMaTj1"
      },
      "source": [
        "dataset = dataset.repeat().shuffle(10000).batch(128)"
      ],
      "execution_count": null,
      "outputs": []
    },
    {
      "cell_type": "code",
      "metadata": {
        "colab": {
          "base_uri": "https://localhost:8080/"
        },
        "id": "qwRBsAahZaSZ",
        "outputId": "259c4861-8b2d-40d6-8b3f-4d74e1a6b061"
      },
      "source": [
        "training_label_seq"
      ],
      "execution_count": null,
      "outputs": [
        {
          "output_type": "execute_result",
          "data": {
            "text/plain": [
              "array([[4],\n",
              "       [2],\n",
              "       [1],\n",
              "       ...,\n",
              "       [1],\n",
              "       [2],\n",
              "       [5]])"
            ]
          },
          "metadata": {
            "tags": []
          },
          "execution_count": 34
        }
      ]
    },
    {
      "cell_type": "code",
      "metadata": {
        "id": "3tdeMbioPG5H"
      },
      "source": [
        "scaled_lr = 0.001 * hvd.size()\n",
        "opt = tf.optimizers.Adam(scaled_lr)\n"
      ],
      "execution_count": null,
      "outputs": []
    },
    {
      "cell_type": "code",
      "metadata": {
        "id": "xH00QAAK1PKy",
        "colab": {
          "base_uri": "https://localhost:8080/"
        },
        "outputId": "2bb3328c-5929-4e71-fd38-fc2df184726a"
      },
      "source": [
        "model = tf.keras.Sequential([\n",
        "    # Add an Embedding layer expecting input vocab of size 5000, and output embedding dimension of size 64 we set at the top\n",
        "    tf.keras.layers.Embedding(vocab_size, embedding_dim),\n",
        "    tf.keras.layers.Bidirectional(tf.keras.layers.LSTM(embedding_dim)),\n",
        "#    tf.keras.layers.Bidirectional(tf.keras.layers.LSTM(32)),\n",
        "    # use ReLU \n",
        "    tf.keras.layers.Dense(embedding_dim, activation='relu'),\n",
        "    # Add a Dense layer with 6 units and softmax activation.\n",
        "    #  softmax convert outputs layers into a probability distribution.\n",
        "    tf.keras.layers.Dense(6, activation='softmax')\n",
        "])\n",
        "model.summary()"
      ],
      "execution_count": null,
      "outputs": [
        {
          "output_type": "stream",
          "text": [
            "Model: \"sequential\"\n",
            "_________________________________________________________________\n",
            "Layer (type)                 Output Shape              Param #   \n",
            "=================================================================\n",
            "embedding (Embedding)        (None, None, 64)          320000    \n",
            "_________________________________________________________________\n",
            "bidirectional (Bidirectional (None, 128)               66048     \n",
            "_________________________________________________________________\n",
            "dense (Dense)                (None, 64)                8256      \n",
            "_________________________________________________________________\n",
            "dense_1 (Dense)              (None, 6)                 390       \n",
            "=================================================================\n",
            "Total params: 394,694\n",
            "Trainable params: 394,694\n",
            "Non-trainable params: 0\n",
            "_________________________________________________________________\n"
          ],
          "name": "stdout"
        }
      ]
    },
    {
      "cell_type": "code",
      "metadata": {
        "id": "cO-nWoEmazNN"
      },
      "source": [
        "opt = hvd.DistributedOptimizer(opt, backward_passes_per_step=1, average_aggregated_gradients=True)"
      ],
      "execution_count": null,
      "outputs": []
    },
    {
      "cell_type": "code",
      "metadata": {
        "id": "RFtUYvaf1PKz"
      },
      "source": [
        "model.compile(loss=tf.losses.SparseCategoricalCrossentropy(), optimizer=opt, metrics=['accuracy'],experimental_run_tf_function=False)"
      ],
      "execution_count": null,
      "outputs": []
    },
    {
      "cell_type": "code",
      "metadata": {
        "colab": {
          "base_uri": "https://localhost:8080/"
        },
        "id": "rXCS0-_lb1-q",
        "outputId": "49fb2f1c-8969-4168-a9c8-68d965ef466b"
      },
      "source": [
        "callbacks = [\n",
        "    # Horovod: broadcast initial variable states from rank 0 to all other processes.\n",
        "    # This is necessary to ensure consistent initialization of all workers when\n",
        "    # training is started with random weights or restored from a checkpoint.\n",
        "    hvd.callbacks.BroadcastGlobalVariablesCallback(0),\n",
        "\n",
        "    # Horovod: average metrics among workers at the end of every epoch.\n",
        "    #\n",
        "    # Note: This callback must be in the list before the ReduceLROnPlateau,\n",
        "    # TensorBoard or other metrics-based callbacks.\n",
        "    hvd.callbacks.MetricAverageCallback(),\n",
        "\n",
        "    # Horovod: using `lr = 1.0 * hvd.size()` from the very beginning leads to worse final\n",
        "    # accuracy. Scale the learning rate `lr = 1.0` ---> `lr = 1.0 * hvd.size()` during\n",
        "    # the first three epochs. See https://arxiv.org/abs/1706.02677 for details.\n",
        "    hvd.callbacks.LearningRateWarmupCallback(initial_lr=scaled_lr, warmup_epochs=3, verbose=1),\n",
        "    TqdmCallback(verbose=2),\n",
        "]\n",
        "\n"
      ],
      "execution_count": null,
      "outputs": [
        {
          "output_type": "stream",
          "text": [
            "/usr/local/lib/python3.7/dist-packages/horovod/_keras/callbacks.py:59: UserWarning: Some callbacks may not have access to the averaged metrics, see https://github.com/horovod/horovod/issues/2440\n",
            "  \"Some callbacks may not have access to the averaged metrics, \"\n"
          ],
          "name": "stderr"
        }
      ]
    },
    {
      "cell_type": "code",
      "metadata": {
        "id": "TSVKY_lScNZJ"
      },
      "source": [
        "if hvd.rank() == 0:\n",
        "    callbacks.append(tf.keras.callbacks.ModelCheckpoint('./checkpoint-{epoch}.h5'))\n"
      ],
      "execution_count": null,
      "outputs": []
    },
    {
      "cell_type": "code",
      "metadata": {
        "id": "d60HmhZ2cTNE"
      },
      "source": [
        ""
      ],
      "execution_count": null,
      "outputs": []
    },
    {
      "cell_type": "code",
      "metadata": {
        "colab": {
          "base_uri": "https://localhost:8080/"
        },
        "id": "xozYbf6KcZpT",
        "outputId": "66e005e5-21ad-4c08-87f7-f2e3c1ddf120"
      },
      "source": [
        "# Train the model.\n",
        "# Horovod: adjust number of steps based on number of GPUs.\n",
        "history = model.fit(dataset, steps_per_epoch=50 // hvd.size(), callbacks=callbacks, epochs=24, verbose = 1 if hvd.rank() == 0 else 0)"
      ],
      "execution_count": null,
      "outputs": [
        {
          "output_type": "stream",
          "text": [
            "Epoch 1/24\n",
            "50/50 [==============================] - 2s 30ms/step - loss: 0.0013 - accuracy: 1.0000\n",
            "Epoch 2/24\n",
            "50/50 [==============================] - 1s 29ms/step - loss: 0.0011 - accuracy: 1.0000\n",
            "Epoch 3/24\n",
            "50/50 [==============================] - 1s 29ms/step - loss: 0.0011 - accuracy: 1.0000\n",
            "\n",
            "Epoch 3: finished gradual learning rate warmup to 0.001.\n",
            "Epoch 4/24\n",
            "50/50 [==============================] - 1s 28ms/step - loss: 0.0010 - accuracy: 1.0000\n",
            "Epoch 5/24\n",
            "50/50 [==============================] - 1s 28ms/step - loss: 0.0010 - accuracy: 1.0000\n",
            "Epoch 6/24\n",
            "50/50 [==============================] - 1s 28ms/step - loss: 9.0608e-04 - accuracy: 1.0000\n",
            "Epoch 7/24\n",
            "50/50 [==============================] - 1s 28ms/step - loss: 9.1593e-04 - accuracy: 1.0000\n",
            "Epoch 8/24\n",
            "50/50 [==============================] - 1s 28ms/step - loss: 8.6192e-04 - accuracy: 1.0000\n",
            "Epoch 9/24\n",
            "50/50 [==============================] - 1s 28ms/step - loss: 8.1296e-04 - accuracy: 1.0000\n",
            "Epoch 10/24\n",
            "50/50 [==============================] - 1s 28ms/step - loss: 7.7742e-04 - accuracy: 1.0000\n",
            "Epoch 11/24\n",
            "50/50 [==============================] - 1s 28ms/step - loss: 7.5895e-04 - accuracy: 1.0000\n",
            "Epoch 12/24\n",
            "50/50 [==============================] - 1s 28ms/step - loss: 7.3946e-04 - accuracy: 1.0000\n",
            "Epoch 13/24\n",
            "50/50 [==============================] - 1s 28ms/step - loss: 6.6101e-04 - accuracy: 1.0000\n",
            "Epoch 14/24\n",
            "50/50 [==============================] - 1s 27ms/step - loss: 6.8773e-04 - accuracy: 1.0000\n",
            "Epoch 15/24\n",
            "50/50 [==============================] - 1s 28ms/step - loss: 6.3798e-04 - accuracy: 1.0000\n",
            "Epoch 16/24\n",
            "50/50 [==============================] - 1s 28ms/step - loss: 6.1161e-04 - accuracy: 1.0000\n",
            "Epoch 17/24\n",
            "50/50 [==============================] - 1s 28ms/step - loss: 5.9560e-04 - accuracy: 1.0000\n",
            "Epoch 18/24\n",
            "50/50 [==============================] - 1s 27ms/step - loss: 5.7032e-04 - accuracy: 1.0000\n",
            "Epoch 19/24\n",
            "50/50 [==============================] - 1s 27ms/step - loss: 5.3742e-04 - accuracy: 1.0000\n",
            "Epoch 20/24\n",
            "50/50 [==============================] - 1s 27ms/step - loss: 5.2198e-04 - accuracy: 1.0000\n",
            "Epoch 21/24\n",
            "50/50 [==============================] - 1s 27ms/step - loss: 5.1216e-04 - accuracy: 1.0000\n",
            "Epoch 22/24\n",
            "50/50 [==============================] - 1s 27ms/step - loss: 4.6770e-04 - accuracy: 1.0000\n",
            "Epoch 23/24\n",
            "50/50 [==============================] - 1s 28ms/step - loss: 4.8536e-04 - accuracy: 1.0000\n",
            "Epoch 24/24\n",
            "50/50 [==============================] - 1s 27ms/step - loss: 4.6635e-04 - accuracy: 1.0000\n"
          ],
          "name": "stdout"
        }
      ]
    },
    {
      "cell_type": "code",
      "metadata": {
        "colab": {
          "base_uri": "https://localhost:8080/"
        },
        "id": "sbstOS05MplA",
        "outputId": "1f9c5395-7a7f-4874-9c06-74e485613420"
      },
      "source": [
        "model.evaluate(validation_padded,validation_label_seq)"
      ],
      "execution_count": null,
      "outputs": [
        {
          "output_type": "stream",
          "text": [
            "14/14 [==============================] - 1s 13ms/step - loss: 0.3942 - accuracy: 0.9303\n"
          ],
          "name": "stdout"
        },
        {
          "output_type": "execute_result",
          "data": {
            "text/plain": [
              "[0.3942139446735382, 0.9303370714187622]"
            ]
          },
          "metadata": {
            "tags": []
          },
          "execution_count": 32
        }
      ]
    },
    {
      "cell_type": "code",
      "metadata": {
        "id": "Ll0ASUo61PK1",
        "colab": {
          "base_uri": "https://localhost:8080/"
        },
        "outputId": "c2a4c1ab-cab0-4624-cb4d-9d89556326fd"
      },
      "source": [
        "!pip install matplotlib"
      ],
      "execution_count": null,
      "outputs": [
        {
          "output_type": "stream",
          "text": [
            "Requirement already satisfied: matplotlib in /usr/local/lib/python3.7/dist-packages (3.2.2)\n",
            "Requirement already satisfied: kiwisolver>=1.0.1 in /usr/local/lib/python3.7/dist-packages (from matplotlib) (1.3.1)\n",
            "Requirement already satisfied: python-dateutil>=2.1 in /usr/local/lib/python3.7/dist-packages (from matplotlib) (2.8.1)\n",
            "Requirement already satisfied: numpy>=1.11 in /usr/local/lib/python3.7/dist-packages (from matplotlib) (1.19.5)\n",
            "Requirement already satisfied: pyparsing!=2.0.4,!=2.1.2,!=2.1.6,>=2.0.1 in /usr/local/lib/python3.7/dist-packages (from matplotlib) (2.4.7)\n",
            "Requirement already satisfied: cycler>=0.10 in /usr/local/lib/python3.7/dist-packages (from matplotlib) (0.10.0)\n",
            "Requirement already satisfied: six>=1.5 in /usr/local/lib/python3.7/dist-packages (from python-dateutil>=2.1->matplotlib) (1.15.0)\n"
          ],
          "name": "stdout"
        }
      ]
    },
    {
      "cell_type": "code",
      "metadata": {
        "id": "5d9VHpSKL9lZ"
      },
      "source": [
        "import pandas as pd"
      ],
      "execution_count": null,
      "outputs": []
    },
    {
      "cell_type": "code",
      "metadata": {
        "id": "8DJRhjNC1PK2"
      },
      "source": [
        "df = pd.read_csv(\"bbc-text.csv\")"
      ],
      "execution_count": null,
      "outputs": []
    },
    {
      "cell_type": "code",
      "metadata": {
        "colab": {
          "base_uri": "https://localhost:8080/"
        },
        "id": "PqE7BXBjMIdl",
        "outputId": "0f342d0c-fb62-41b1-bc48-5e812f0e16e9"
      },
      "source": [
        "df['category'].value_counts()"
      ],
      "execution_count": null,
      "outputs": [
        {
          "output_type": "execute_result",
          "data": {
            "text/plain": [
              "sport            511\n",
              "business         510\n",
              "politics         417\n",
              "tech             401\n",
              "entertainment    386\n",
              "Name: category, dtype: int64"
            ]
          },
          "metadata": {
            "tags": []
          },
          "execution_count": 29
        }
      ]
    },
    {
      "cell_type": "code",
      "metadata": {
        "id": "dqtlfhSaMna1"
      },
      "source": [
        ""
      ],
      "execution_count": null,
      "outputs": []
    },
    {
      "cell_type": "code",
      "metadata": {
        "id": "1fKbVhZ51PK2",
        "colab": {
          "base_uri": "https://localhost:8080/",
          "height": 862
        },
        "outputId": "e275b365-91de-4aab-e97d-fd998854d917"
      },
      "source": [
        "from matplotlib import pyplot as plt\n",
        "def plot_graphs(history, string):\n",
        "  plt.plot(history.history[string])\n",
        "  #plt.plot(history.history['val_'+string])\n",
        "  plt.xlabel(\"Epochs\")\n",
        "  plt.ylabel(string)\n",
        "  plt.legend([string, 'val_'+string])\n",
        "  plt.show()\n",
        "  \n",
        "plot_graphs(history, \"accuracy\")\n",
        "plot_graphs(history, \"loss\")\n",
        "plot_graphs(history, \"ETA\")"
      ],
      "execution_count": null,
      "outputs": [
        {
          "output_type": "display_data",
          "data": {
            "image/png": "[encoded data removed]",
            "text/plain": [
              "<Figure size 432x288 with 1 Axes>"
            ]
          },
          "metadata": {
            "tags": [],
            "needs_background": "light"
          }
        },
        {
          "output_type": "display_data",
          "data": {
            "image/png": "[encoded data removed]",
            "text/plain": [
              "<Figure size 432x288 with 1 Axes>"
            ]
          },
          "metadata": {
            "tags": [],
            "needs_background": "light"
          }
        },
        {
          "output_type": "error",
          "ename": "KeyError",
          "evalue": "ignored",
          "traceback": [
            "\u001b[0;31m---------------------------------------------------------------------------\u001b[0m",
            "\u001b[0;31mKeyError\u001b[0m                                  Traceback (most recent call last)",
            "\u001b[0;32m<ipython-input-61-33b38caa1e62>\u001b[0m in \u001b[0;36m<module>\u001b[0;34m()\u001b[0m\n\u001b[1;32m     10\u001b[0m \u001b[0mplot_graphs\u001b[0m\u001b[0;34m(\u001b[0m\u001b[0mhistory\u001b[0m\u001b[0;34m,\u001b[0m \u001b[0;34m\"accuracy\"\u001b[0m\u001b[0;34m)\u001b[0m\u001b[0;34m\u001b[0m\u001b[0;34m\u001b[0m\u001b[0m\n\u001b[1;32m     11\u001b[0m \u001b[0mplot_graphs\u001b[0m\u001b[0;34m(\u001b[0m\u001b[0mhistory\u001b[0m\u001b[0;34m,\u001b[0m \u001b[0;34m\"loss\"\u001b[0m\u001b[0;34m)\u001b[0m\u001b[0;34m\u001b[0m\u001b[0;34m\u001b[0m\u001b[0m\n\u001b[0;32m---> 12\u001b[0;31m \u001b[0mplot_graphs\u001b[0m\u001b[0;34m(\u001b[0m\u001b[0mhistory\u001b[0m\u001b[0;34m,\u001b[0m \u001b[0;34m\"ETA\"\u001b[0m\u001b[0;34m)\u001b[0m\u001b[0;34m\u001b[0m\u001b[0;34m\u001b[0m\u001b[0m\n\u001b[0m",
            "\u001b[0;32m<ipython-input-61-33b38caa1e62>\u001b[0m in \u001b[0;36mplot_graphs\u001b[0;34m(history, string)\u001b[0m\n\u001b[1;32m      1\u001b[0m \u001b[0;32mfrom\u001b[0m \u001b[0mmatplotlib\u001b[0m \u001b[0;32mimport\u001b[0m \u001b[0mpyplot\u001b[0m \u001b[0;32mas\u001b[0m \u001b[0mplt\u001b[0m\u001b[0;34m\u001b[0m\u001b[0;34m\u001b[0m\u001b[0m\n\u001b[1;32m      2\u001b[0m \u001b[0;32mdef\u001b[0m \u001b[0mplot_graphs\u001b[0m\u001b[0;34m(\u001b[0m\u001b[0mhistory\u001b[0m\u001b[0;34m,\u001b[0m \u001b[0mstring\u001b[0m\u001b[0;34m)\u001b[0m\u001b[0;34m:\u001b[0m\u001b[0;34m\u001b[0m\u001b[0;34m\u001b[0m\u001b[0m\n\u001b[0;32m----> 3\u001b[0;31m   \u001b[0mplt\u001b[0m\u001b[0;34m.\u001b[0m\u001b[0mplot\u001b[0m\u001b[0;34m(\u001b[0m\u001b[0mhistory\u001b[0m\u001b[0;34m.\u001b[0m\u001b[0mhistory\u001b[0m\u001b[0;34m[\u001b[0m\u001b[0mstring\u001b[0m\u001b[0;34m]\u001b[0m\u001b[0;34m)\u001b[0m\u001b[0;34m\u001b[0m\u001b[0;34m\u001b[0m\u001b[0m\n\u001b[0m\u001b[1;32m      4\u001b[0m   \u001b[0;31m#plt.plot(history.history['val_'+string])\u001b[0m\u001b[0;34m\u001b[0m\u001b[0;34m\u001b[0m\u001b[0;34m\u001b[0m\u001b[0m\n\u001b[1;32m      5\u001b[0m   \u001b[0mplt\u001b[0m\u001b[0;34m.\u001b[0m\u001b[0mxlabel\u001b[0m\u001b[0;34m(\u001b[0m\u001b[0;34m\"ETA\"\u001b[0m\u001b[0;34m)\u001b[0m\u001b[0;34m\u001b[0m\u001b[0;34m\u001b[0m\u001b[0m\n",
            "\u001b[0;31mKeyError\u001b[0m: 'ETA'"
          ]
        }
      ]
    },
    {
      "cell_type": "code",
      "metadata": {
        "id": "Yu9FlfhY1PK2",
        "colab": {
          "base_uri": "https://localhost:8080/"
        },
        "outputId": "566f712b-8d22-46bc-aef6-605b86ef53aa"
      },
      "source": [
        "txt = [\"A WeWork shareholder has taken the company to court over the near-$1.7bn (£1.3bn) leaving package approved for ousted co-founder Adam Neumann.\"]\n",
        "seq = tokenizer.texts_to_sequences(txt)\n",
        "padded = pad_sequences(seq, maxlen=max_length)\n",
        "pred = model.predict(padded)\n",
        "pred"
      ],
      "execution_count": null,
      "outputs": [
        {
          "output_type": "execute_result",
          "data": {
            "text/plain": [
              "array([[0.00098079, 0.19799298, 0.0012951 , 0.00320101, 0.18809798,\n",
              "        0.6084321 ]], dtype=float32)"
            ]
          },
          "metadata": {
            "tags": []
          },
          "execution_count": 33
        }
      ]
    },
    {
      "cell_type": "code",
      "metadata": {
        "id": "Op6iLy9t1PK3",
        "colab": {
          "base_uri": "https://localhost:8080/"
        },
        "outputId": "5f5e21cd-154b-4d2d-9019-b72a258f2e67"
      },
      "source": [
        "txt = [\"A WeWork shareholder has taken the company to court over the near-$1.7bn (£1.3bn) leaving package approved for ousted co-founder Adam Neumann.\"]\n",
        "seq = tokenizer.texts_to_sequences(txt)\n",
        "padded = pad_sequences(seq, maxlen=max_length)\n",
        "pred = model.predict(padded)\n",
        "labels = ['sport', 'bussiness', 'politics', 'tech', 'entertainment','unknown']\n",
        "print(pred, labels[np.argmax(pred)])"
      ],
      "execution_count": null,
      "outputs": [
        {
          "output_type": "stream",
          "text": [
            "[[0.00098079 0.19799298 0.0012951  0.00320101 0.18809798 0.6084321 ]] unknown\n"
          ],
          "name": "stdout"
        }
      ]
    },
    {
      "cell_type": "code",
      "metadata": {
        "id": "rbZMyNwG1PK4",
        "colab": {
          "base_uri": "https://localhost:8080/"
        },
        "outputId": "bee51f7b-0b27-4b23-89d2-ef91507871a6"
      },
      "source": [
        "np.argmax(pred)"
      ],
      "execution_count": null,
      "outputs": [
        {
          "output_type": "execute_result",
          "data": {
            "text/plain": [
              "5"
            ]
          },
          "metadata": {
            "tags": []
          },
          "execution_count": 35
        }
      ]
    },
    {
      "cell_type": "code",
      "metadata": {
        "id": "cmGQTP3R1PK4",
        "outputId": "8a0ed747-5034-4725-c02b-336cca9184a9"
      },
      "source": [
        "pip install tensorflow"
      ],
      "execution_count": null,
      "outputs": [
        {
          "output_type": "stream",
          "text": [
            "Note: you may need to restart the kernel to use updated packages.Collecting tensorflow\n"
          ],
          "name": "stdout"
        },
        {
          "output_type": "stream",
          "text": [
            "WARNING: Value for scheme.headers does not match. Please report this to <https://github.com/pypa/pip/issues/9617>\n",
            "distutils: C:\\Users\\parth\\anaconda\\Include\\UNKNOWN\n",
            "sysconfig: C:\\Users\\parth\\anaconda\\Include\n",
            "WARNING: Additional context:\n",
            "user = False\n",
            "home = None\n"
          ],
          "name": "stderr"
        },
        {
          "output_type": "stream",
          "text": [
            "\n",
            "  Downloading tensorflow-2.5.0-cp38-cp38-win_amd64.whl (422.6 MB)\n",
            "Requirement already satisfied: typing-extensions~=3.7.4 in c:\\users\\parth\\appdata\\roaming\\python\\python38\\site-packages (from tensorflow) (3.7.4.3)\n",
            "Requirement already satisfied: six~=1.15.0 in c:\\users\\parth\\appdata\\roaming\\python\\python38\\site-packages (from tensorflow) (1.15.0)\n",
            "Requirement already satisfied: tensorboard~=2.5 in c:\\users\\parth\\appdata\\roaming\\python\\python38\\site-packages (from tensorflow) (2.5.0)\n",
            "Collecting tensorflow-estimator<2.6.0,>=2.5.0rc0\n",
            "  Downloading tensorflow_estimator-2.5.0-py2.py3-none-any.whl (462 kB)\n",
            "Collecting gast==0.4.0\n",
            "  Using cached gast-0.4.0-py3-none-any.whl (9.8 kB)\n",
            "Requirement already satisfied: wheel~=0.35 in c:\\users\\parth\\appdata\\roaming\\python\\python38\\site-packages (from tensorflow) (0.36.2)\n",
            "Collecting google-pasta~=0.2\n",
            "  Using cached google_pasta-0.2.0-py3-none-any.whl (57 kB)\n",
            "Requirement already satisfied: protobuf>=3.9.2 in c:\\users\\parth\\appdata\\roaming\\python\\python38\\site-packages (from tensorflow) (3.15.8)\n",
            "Requirement already satisfied: absl-py~=0.10 in c:\\users\\parth\\appdata\\roaming\\python\\python38\\site-packages (from tensorflow) (0.12.0)\n",
            "Collecting h5py~=3.1.0\n",
            "  Downloading h5py-3.1.0-cp38-cp38-win_amd64.whl (2.7 MB)\n",
            "Collecting flatbuffers~=1.12.0\n",
            "  Using cached flatbuffers-1.12-py2.py3-none-any.whl (15 kB)\n",
            "Collecting astunparse~=1.6.3\n",
            "  Using cached astunparse-1.6.3-py2.py3-none-any.whl (12 kB)\n",
            "Collecting grpcio~=1.34.0\n",
            "  Downloading grpcio-1.34.1-cp38-cp38-win_amd64.whl (2.9 MB)\n",
            "Requirement already satisfied: termcolor~=1.1.0 in c:\\users\\parth\\appdata\\roaming\\python\\python38\\site-packages (from tensorflow) (1.1.0)\n",
            "Requirement already satisfied: wrapt~=1.12.1 in c:\\users\\parth\\appdata\\roaming\\python\\python38\\site-packages (from tensorflow) (1.12.1)\n",
            "Requirement already satisfied: numpy~=1.19.2 in c:\\users\\parth\\appdata\\roaming\\python\\python38\\site-packages (from tensorflow) (1.19.5)\n",
            "Collecting opt-einsum~=3.3.0\n",
            "  Using cached opt_einsum-3.3.0-py3-none-any.whl (65 kB)\n",
            "Collecting keras-preprocessing~=1.1.2\n",
            "  Using cached Keras_Preprocessing-1.1.2-py2.py3-none-any.whl (42 kB)\n",
            "Collecting keras-nightly~=2.5.0.dev\n",
            "  Downloading keras_nightly-2.5.0.dev2021032900-py2.py3-none-any.whl (1.2 MB)\n",
            "Requirement already satisfied: google-auth-oauthlib<0.5,>=0.4.1 in c:\\users\\parth\\appdata\\roaming\\python\\python38\\site-packages (from tensorboard~=2.5->tensorflow) (0.4.4)\n",
            "Requirement already satisfied: setuptools>=41.0.0 in c:\\users\\parth\\appdata\\roaming\\python\\python38\\site-packages (from tensorboard~=2.5->tensorflow) (56.0.0)\n",
            "Requirement already satisfied: tensorboard-data-server<0.7.0,>=0.6.0 in c:\\users\\parth\\appdata\\roaming\\python\\python38\\site-packages (from tensorboard~=2.5->tensorflow) (0.6.0)\n",
            "Requirement already satisfied: tensorboard-plugin-wit>=1.6.0 in c:\\users\\parth\\appdata\\roaming\\python\\python38\\site-packages (from tensorboard~=2.5->tensorflow) (1.8.0)\n",
            "Requirement already satisfied: markdown>=2.6.8 in c:\\users\\parth\\appdata\\roaming\\python\\python38\\site-packages (from tensorboard~=2.5->tensorflow) (3.3.4)\n",
            "Requirement already satisfied: werkzeug>=0.11.15 in c:\\users\\parth\\appdata\\roaming\\python\\python38\\site-packages (from tensorboard~=2.5->tensorflow) (1.0.1)"
          ],
          "name": "stdout"
        },
        {
          "output_type": "stream",
          "text": [
            "root = None\n",
            "prefix = None\n",
            "WARNING: Ignoring invalid distribution -orch (c:\\users\\parth\\anaconda\\lib\\site-packages)\n",
            "WARNING: Ignoring invalid distribution -orch (c:\\users\\parth\\anaconda\\lib\\site-packages)\n",
            "WARNING: Value for scheme.headers does not match. Please report this to <https://github.com/pypa/pip/issues/9617>\n",
            "distutils: C:\\Users\\parth\\anaconda\\Include\\UNKNOWN\n",
            "sysconfig: C:\\Users\\parth\\anaconda\\Include\n",
            "WARNING: Additional context:\n",
            "user = False\n",
            "home = None\n",
            "root = None\n",
            "prefix = None\n",
            "WARNING: Ignoring invalid distribution -orch (c:\\users\\parth\\anaconda\\lib\\site-packages)\n",
            "WARNING: Ignoring invalid distribution -orch (c:\\users\\parth\\anaconda\\lib\\site-packages)\n",
            "WARNING: Ignoring invalid distribution -orch (c:\\users\\parth\\anaconda\\lib\\site-packages)\n",
            "WARNING: Ignoring invalid distribution -orch (c:\\users\\parth\\anaconda\\lib\\site-packages)\n",
            "WARNING: Ignoring invalid distribution -orch (c:\\users\\parth\\anaconda\\lib\\site-packages)\n",
            "WARNING: Ignoring invalid distribution -orch (c:\\users\\parth\\anaconda\\lib\\site-packages)\n",
            "WARNING: Ignoring invalid distribution -orch (c:\\users\\parth\\anaconda\\lib\\site-packages)\n",
            "WARNING: Ignoring invalid distribution -orch (c:\\users\\parth\\anaconda\\lib\\site-packages)\n",
            "WARNING: Ignoring invalid distribution -orch (c:\\users\\parth\\anaconda\\lib\\site-packages)\n",
            "WARNING: Ignoring invalid distribution -orch (c:\\users\\parth\\anaconda\\lib\\site-packages)\n",
            "WARNING: Ignoring invalid distribution -orch (c:\\users\\parth\\anaconda\\lib\\site-packages)\n",
            "WARNING: You are using pip version 21.1; however, version 21.1.1 is available.\n",
            "You should consider upgrading via the 'C:\\Users\\parth\\anaconda\\python.exe -m pip install --upgrade pip' command.\n"
          ],
          "name": "stderr"
        },
        {
          "output_type": "stream",
          "text": [
            "\n",
            "Requirement already satisfied: requests<3,>=2.21.0 in c:\\users\\parth\\appdata\\roaming\\python\\python38\\site-packages (from tensorboard~=2.5->tensorflow) (2.25.1)\n",
            "Requirement already satisfied: google-auth<2,>=1.6.3 in c:\\users\\parth\\appdata\\roaming\\python\\python38\\site-packages (from tensorboard~=2.5->tensorflow) (1.30.0)\n",
            "Requirement already satisfied: cachetools<5.0,>=2.0.0 in c:\\users\\parth\\appdata\\roaming\\python\\python38\\site-packages (from google-auth<2,>=1.6.3->tensorboard~=2.5->tensorflow) (4.2.2)\n",
            "Requirement already satisfied: rsa<5,>=3.1.4 in c:\\users\\parth\\appdata\\roaming\\python\\python38\\site-packages (from google-auth<2,>=1.6.3->tensorboard~=2.5->tensorflow) (4.7.2)\n",
            "Requirement already satisfied: pyasn1-modules>=0.2.1 in c:\\users\\parth\\appdata\\roaming\\python\\python38\\site-packages (from google-auth<2,>=1.6.3->tensorboard~=2.5->tensorflow) (0.2.8)\n",
            "Requirement already satisfied: requests-oauthlib>=0.7.0 in c:\\users\\parth\\appdata\\roaming\\python\\python38\\site-packages (from google-auth-oauthlib<0.5,>=0.4.1->tensorboard~=2.5->tensorflow) (1.3.0)\n",
            "Requirement already satisfied: pyasn1<0.5.0,>=0.4.6 in c:\\users\\parth\\appdata\\roaming\\python\\python38\\site-packages (from pyasn1-modules>=0.2.1->google-auth<2,>=1.6.3->tensorboard~=2.5->tensorflow) (0.4.8)\n",
            "Requirement already satisfied: idna<3,>=2.5 in c:\\users\\parth\\appdata\\roaming\\python\\python38\\site-packages (from requests<3,>=2.21.0->tensorboard~=2.5->tensorflow) (2.10)\n",
            "Requirement already satisfied: chardet<5,>=3.0.2 in c:\\users\\parth\\appdata\\roaming\\python\\python38\\site-packages (from requests<3,>=2.21.0->tensorboard~=2.5->tensorflow) (4.0.0)\n",
            "Requirement already satisfied: urllib3<1.27,>=1.21.1 in c:\\users\\parth\\appdata\\roaming\\python\\python38\\site-packages (from requests<3,>=2.21.0->tensorboard~=2.5->tensorflow) (1.26.4)\n",
            "Requirement already satisfied: certifi>=2017.4.17 in c:\\users\\parth\\appdata\\roaming\\python\\python38\\site-packages (from requests<3,>=2.21.0->tensorboard~=2.5->tensorflow) (2020.12.5)\n",
            "Requirement already satisfied: oauthlib>=3.0.0 in c:\\users\\parth\\appdata\\roaming\\python\\python38\\site-packages (from requests-oauthlib>=0.7.0->google-auth-oauthlib<0.5,>=0.4.1->tensorboard~=2.5->tensorflow) (3.1.0)\n",
            "Installing collected packages: grpcio, tensorflow-estimator, opt-einsum, keras-preprocessing, keras-nightly, h5py, google-pasta, gast, flatbuffers, astunparse, tensorflow\n",
            "  Attempting uninstall: grpcio\n",
            "    Found existing installation: grpcio 1.32.0\n",
            "    Uninstalling grpcio-1.32.0:\n",
            "      Successfully uninstalled grpcio-1.32.0\n",
            "  Attempting uninstall: tensorflow-estimator\n",
            "    Found existing installation: tensorflow-estimator 2.4.0\n",
            "    Uninstalling tensorflow-estimator-2.4.0:\n",
            "      Successfully uninstalled tensorflow-estimator-2.4.0\n",
            "  Attempting uninstall: h5py\n",
            "    Found existing installation: h5py 2.10.0\n",
            "    Uninstalling h5py-2.10.0:\n",
            "      Successfully uninstalled h5py-2.10.0\n",
            "Successfully installed astunparse-1.6.3 flatbuffers-1.12 gast-0.4.0 google-pasta-0.2.0 grpcio-1.34.1 h5py-3.1.0 keras-nightly-2.5.0.dev2021032900 keras-preprocessing-1.1.2 opt-einsum-3.3.0 tensorflow-2.5.0 tensorflow-estimator-2.5.0\n"
          ],
          "name": "stdout"
        }
      ]
    },
    {
      "cell_type": "code",
      "metadata": {
        "id": "JAYuV7K_1PK5"
      },
      "source": [
        ""
      ],
      "execution_count": null,
      "outputs": []
    }
  ]
}